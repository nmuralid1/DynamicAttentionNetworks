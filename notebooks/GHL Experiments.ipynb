{
 "cells": [
  {
   "cell_type": "code",
   "execution_count": 1,
   "metadata": {},
   "outputs": [],
   "source": [
    "import warnings\n",
    "warnings.filterwarnings(\"ignore\")\n",
    "import sys\n",
    "sys.path.append(\"../\")\n",
    "import helpers"
   ]
  },
  {
   "cell_type": "markdown",
   "metadata": {},
   "source": [
    "# When Training and Testing Scripts Have Been Run Offline\n",
    "# This Script Can Be Used To Evaluate Forecasting Performance."
   ]
  },
  {
   "cell_type": "markdown",
   "metadata": {},
   "source": [
    "# Sequence Length 10"
   ]
  },
  {
   "cell_type": "code",
   "execution_count": 4,
   "metadata": {},
   "outputs": [
    {
     "name": "stdout",
     "output_type": "stream",
     "text": [
      "Test File = test_01_Lev_fault_Temp_corr_seed_11_vars_23 MSE = 0.00223, Weighted MSE = 0.00274\n",
      "Test File = test_02_Lev_fault_Temp_corr_seed_17_vars_23 MSE = 0.00237, Weighted MSE = 0.0029\n",
      "Test File = test_03_Lev_fault_Temp_corr_seed_19_vars_23 MSE = 0.00235, Weighted MSE = 0.00285\n",
      "Test File = test_04_Lev_fault_Temp_corr_seed_23_vars_23 MSE = 0.0025, Weighted MSE = 0.00301\n",
      "Test File = test_file MSE = 0.00306, Weighted MSE = 0.00368\n",
      "SeqLen = 10 Avg. MSE = 0.0025 Avg. WMSE = 0.00304\n",
      "\n",
      "\n"
     ]
    }
   ],
   "source": [
    "resultsdir=\"/home/nik90/source/DynamicAttentionNetworks/results/ghl_small/DyAtMaxPoolH/DyAtMaxPoolH_mean/\"\n",
    "helpers.calculate_mse_wmse(resultsdir,sequence_length=10,exp_num=1)"
   ]
  },
  {
   "cell_type": "markdown",
   "metadata": {},
   "source": [
    "# Sequence Length 90"
   ]
  },
  {
   "cell_type": "code",
   "execution_count": 5,
   "metadata": {},
   "outputs": [
    {
     "name": "stdout",
     "output_type": "stream",
     "text": [
      "Test File = test_01_Lev_fault_Temp_corr_seed_11_vars_23 MSE = 0.00836, Weighted MSE = 0.00979\n",
      "Test File = test_02_Lev_fault_Temp_corr_seed_17_vars_23 MSE = 0.00879, Weighted MSE = 0.01037\n",
      "Test File = test_03_Lev_fault_Temp_corr_seed_19_vars_23 MSE = 0.00893, Weighted MSE = 0.01054\n",
      "Test File = test_04_Lev_fault_Temp_corr_seed_23_vars_23 MSE = 0.00885, Weighted MSE = 0.01022\n",
      "Test File = test_file MSE = 0.00879, Weighted MSE = 0.01008\n",
      "SeqLen = 90 Avg. MSE = 0.00874 Avg. WMSE = 0.0102\n",
      "\n",
      "\n"
     ]
    }
   ],
   "source": [
    "resultsdir=\"/home/nik90/source/DynamicAttentionNetworks/results/ghl_small/DyAtMaxPoolH/DyAtMaxPoolH_mean/\"\n",
    "helpers.calculate_mse_wmse(resultsdir,sequence_length=90,exp_num=1)"
   ]
  },
  {
   "cell_type": "markdown",
   "metadata": {},
   "source": [
    "# Sequence Length 110"
   ]
  },
  {
   "cell_type": "code",
   "execution_count": 6,
   "metadata": {},
   "outputs": [
    {
     "name": "stdout",
     "output_type": "stream",
     "text": [
      "Test File = test_01_Lev_fault_Temp_corr_seed_11_vars_23 MSE = 0.01119, Weighted MSE = 0.01308\n",
      "Test File = test_02_Lev_fault_Temp_corr_seed_17_vars_23 MSE = 0.01183, Weighted MSE = 0.01372\n",
      "Test File = test_03_Lev_fault_Temp_corr_seed_19_vars_23 MSE = 0.01119, Weighted MSE = 0.013\n",
      "Test File = test_04_Lev_fault_Temp_corr_seed_23_vars_23 MSE = 0.0114, Weighted MSE = 0.01331\n",
      "Test File = test_file MSE = 0.01633, Weighted MSE = 0.01758\n",
      "SeqLen = 110 Avg. MSE = 0.01239 Avg. WMSE = 0.01414\n",
      "\n",
      "\n"
     ]
    }
   ],
   "source": [
    "resultsdir=\"/home/nik90/source/DynamicAttentionNetworks/results/ghl_small/DyAtMaxPoolH/DyAtMaxPoolH_mean/\"\n",
    "helpers.calculate_mse_wmse(resultsdir,sequence_length=110,exp_num=1)"
   ]
  },
  {
   "cell_type": "markdown",
   "metadata": {},
   "source": [
    "# Sequence Length 130"
   ]
  },
  {
   "cell_type": "code",
   "execution_count": null,
   "metadata": {},
   "outputs": [],
   "source": [
    "resultsdir=\"/home/nik90/source/ijcai_19_code_and_data/results/ghl_small/DyAtMaxPoolH/DyAtMaxPoolH_mean/\"\n",
    "helpers.calculate_mse_wmse(resultsdir,sequence_length=130,exp_num=1)"
   ]
  },
  {
   "cell_type": "code",
   "execution_count": null,
   "metadata": {},
   "outputs": [],
   "source": []
  }
 ],
 "metadata": {
  "kernelspec": {
   "display_name": "Python 3",
   "language": "python",
   "name": "python3"
  },
  "language_info": {
   "codemirror_mode": {
    "name": "ipython",
    "version": 3
   },
   "file_extension": ".py",
   "mimetype": "text/x-python",
   "name": "python",
   "nbconvert_exporter": "python",
   "pygments_lexer": "ipython3",
   "version": "3.7.3"
  }
 },
 "nbformat": 4,
 "nbformat_minor": 2
}
