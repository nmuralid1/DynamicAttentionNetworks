{
 "cells": [
  {
   "cell_type": "code",
   "execution_count": 2,
   "metadata": {},
   "outputs": [],
   "source": [
    "import warnings\n",
    "warnings.filterwarnings(\"ignore\")\n",
    "import sys\n",
    "sys.path.append(\"../\")\n",
    "import helpers"
   ]
  },
  {
   "cell_type": "markdown",
   "metadata": {},
   "source": [
    "# When training and testing scripts have been run offline, this script can be used to evaluate forecasting performance."
   ]
  },
  {
   "cell_type": "markdown",
   "metadata": {},
   "source": [
    "# DyAt-MaxPool-H"
   ]
  },
  {
   "cell_type": "markdown",
   "metadata": {},
   "source": [
    "# Sequence Length 10"
   ]
  },
  {
   "cell_type": "code",
   "execution_count": 10,
   "metadata": {},
   "outputs": [
    {
     "name": "stdout",
     "output_type": "stream",
     "text": [
      "Test File = test_01_Lev_fault_Temp_corr_seed_11_vars_23 MSE = 0.00254, Weighted MSE = 0.00311\n",
      "Test File = test_02_Lev_fault_Temp_corr_seed_17_vars_23 MSE = 0.0026, Weighted MSE = 0.00318\n",
      "Test File = test_03_Lev_fault_Temp_corr_seed_19_vars_23 MSE = 0.00267, Weighted MSE = 0.00324\n",
      "Test File = test_04_Lev_fault_Temp_corr_seed_23_vars_23 MSE = 0.00278, Weighted MSE = 0.00334\n",
      "Test File = test_file MSE = 0.00395, Weighted MSE = 0.00507\n",
      "SeqLen = 10 Avg. MSE = 0.00291 Avg. WMSE = 0.00359\n",
      "\n",
      "\n"
     ]
    }
   ],
   "source": [
    "resultsdir=\"/home/nik90/source/DynamicAttentionNetworks/results/ghl_small/DyAtMaxPoolH/DyAtMaxPoolH_mean/\"\n",
    "helpers.calculate_mse_wmse(resultsdir,sequence_length=10,exp_num=1)"
   ]
  },
  {
   "cell_type": "markdown",
   "metadata": {},
   "source": [
    "# Sequence Length 90"
   ]
  },
  {
   "cell_type": "code",
   "execution_count": 5,
   "metadata": {},
   "outputs": [
    {
     "name": "stdout",
     "output_type": "stream",
     "text": [
      "Test File = test_01_Lev_fault_Temp_corr_seed_11_vars_23 MSE = 0.00836, Weighted MSE = 0.00979\n",
      "Test File = test_02_Lev_fault_Temp_corr_seed_17_vars_23 MSE = 0.00879, Weighted MSE = 0.01037\n",
      "Test File = test_03_Lev_fault_Temp_corr_seed_19_vars_23 MSE = 0.00893, Weighted MSE = 0.01054\n",
      "Test File = test_04_Lev_fault_Temp_corr_seed_23_vars_23 MSE = 0.00885, Weighted MSE = 0.01022\n",
      "Test File = test_file MSE = 0.00879, Weighted MSE = 0.01008\n",
      "SeqLen = 90 Avg. MSE = 0.00874 Avg. WMSE = 0.0102\n",
      "\n",
      "\n"
     ]
    }
   ],
   "source": [
    "resultsdir=\"/home/nik90/source/DynamicAttentionNetworks/results/ghl_small/DyAtMaxPoolH/DyAtMaxPoolH_mean/\"\n",
    "helpers.calculate_mse_wmse(resultsdir,sequence_length=90,exp_num=1)"
   ]
  },
  {
   "cell_type": "markdown",
   "metadata": {},
   "source": [
    "# Sequence Length 110"
   ]
  },
  {
   "cell_type": "code",
   "execution_count": 6,
   "metadata": {},
   "outputs": [
    {
     "name": "stdout",
     "output_type": "stream",
     "text": [
      "Test File = test_01_Lev_fault_Temp_corr_seed_11_vars_23 MSE = 0.01119, Weighted MSE = 0.01308\n",
      "Test File = test_02_Lev_fault_Temp_corr_seed_17_vars_23 MSE = 0.01183, Weighted MSE = 0.01372\n",
      "Test File = test_03_Lev_fault_Temp_corr_seed_19_vars_23 MSE = 0.01119, Weighted MSE = 0.013\n",
      "Test File = test_04_Lev_fault_Temp_corr_seed_23_vars_23 MSE = 0.0114, Weighted MSE = 0.01331\n",
      "Test File = test_file MSE = 0.01633, Weighted MSE = 0.01758\n",
      "SeqLen = 110 Avg. MSE = 0.01239 Avg. WMSE = 0.01414\n",
      "\n",
      "\n"
     ]
    }
   ],
   "source": [
    "resultsdir=\"/home/nik90/source/DynamicAttentionNetworks/results/ghl_small/DyAtMaxPoolH/DyAtMaxPoolH_mean/\"\n",
    "helpers.calculate_mse_wmse(resultsdir,sequence_length=110,exp_num=1)"
   ]
  },
  {
   "cell_type": "markdown",
   "metadata": {},
   "source": [
    "# Sequence Length 130"
   ]
  },
  {
   "cell_type": "code",
   "execution_count": 8,
   "metadata": {},
   "outputs": [
    {
     "name": "stdout",
     "output_type": "stream",
     "text": [
      "Test File = test_01_Lev_fault_Temp_corr_seed_11_vars_23 MSE = 0.01004, Weighted MSE = 0.01137\n",
      "Test File = test_02_Lev_fault_Temp_corr_seed_17_vars_23 MSE = 0.01078, Weighted MSE = 0.01226\n",
      "Test File = test_03_Lev_fault_Temp_corr_seed_19_vars_23 MSE = 0.01029, Weighted MSE = 0.01183\n",
      "Test File = test_04_Lev_fault_Temp_corr_seed_23_vars_23 MSE = 0.0103, Weighted MSE = 0.01192\n",
      "Test File = test_file MSE = 0.0171, Weighted MSE = 0.01913\n",
      "SeqLen = 130 Avg. MSE = 0.0117 Avg. WMSE = 0.0133\n",
      "\n",
      "\n"
     ]
    }
   ],
   "source": [
    "resultsdir=\"/home/nik90/source/DynamicAttentionNetworks/results/ghl_small/DyAtMaxPoolH/DyAtMaxPoolH_mean/\"\n",
    "helpers.calculate_mse_wmse(resultsdir,sequence_length=130,exp_num=1)"
   ]
  },
  {
   "cell_type": "code",
   "execution_count": null,
   "metadata": {},
   "outputs": [],
   "source": []
  }
 ],
 "metadata": {
  "kernelspec": {
   "display_name": "Python 3",
   "language": "python",
   "name": "python3"
  },
  "language_info": {
   "codemirror_mode": {
    "name": "ipython",
    "version": 3
   },
   "file_extension": ".py",
   "mimetype": "text/x-python",
   "name": "python",
   "nbconvert_exporter": "python",
   "pygments_lexer": "ipython3",
   "version": "3.7.3"
  }
 },
 "nbformat": 4,
 "nbformat_minor": 2
}
